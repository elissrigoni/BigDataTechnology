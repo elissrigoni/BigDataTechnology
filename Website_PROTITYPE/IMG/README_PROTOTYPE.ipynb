{
  "nbformat": 4,
  "nbformat_minor": 0,
  "metadata": {
    "colab": {
      "name": "README_PROTOTYPE.ipynb",
      "provenance": [],
      "collapsed_sections": []
    },
    "kernelspec": {
      "name": "python3",
      "display_name": "Python 3"
    },
    "language_info": {
      "name": "python"
    }
  },
  "cells": [
    {
      "cell_type": "code",
      "execution_count": null,
      "metadata": {
        "id": "pVyRU0cwqnAa"
      },
      "outputs": [],
      "source": [
        "After the completion of the system, we created a prototype of a possible web interface that allowed us to make the program we created more user-friendly. First of all, we developed a recognizable logo that conveys a perception about the service we provide."
      ]
    },
    {
      "cell_type": "code",
      "source": [
        "from PIL import Image\n",
        "\n",
        "#read the image\n",
        "im = Image.open(\"./IMG/LOGO.png\")\n",
        "\n",
        "#show image\n",
        "im.show()"
      ],
      "metadata": {
        "id": "f9sflgAEqqCb"
      },
      "execution_count": null,
      "outputs": []
    },
    {
      "cell_type": "markdown",
      "source": [
        "Lately,  we focused on developing a web interface that aims to make the user's interaction as simple and efficient as possible. We think that our prototype could improve the overall understanding of the design. We decided to display some focal points of the system we implemented, namely the steps in which the user has to load the datasets and the final step in which it can save the model fitted to share it to future users (also providing further information that allows to improve user understanding)."
      ],
      "metadata": {
        "id": "xf-cP-5mq1fd"
      }
    },
    {
      "cell_type": "code",
      "source": [
        "from PIL import Image\n",
        "\n",
        "#read the image\n",
        "im = Image.open(\"./IMG/Load_Datasets.png\")\n",
        "\n",
        "#show image\n",
        "im.show()"
      ],
      "metadata": {
        "id": "mDDJjy1QrBcE"
      },
      "execution_count": null,
      "outputs": []
    },
    {
      "cell_type": "code",
      "source": [
        "from PIL import Image\n",
        "\n",
        "#read the image\n",
        "im = Image.open(\"./IMG/Save_model_1.png\")\n",
        "\n",
        "#show image\n",
        "im.show()"
      ],
      "metadata": {
        "id": "B1qNvbUArIvg"
      },
      "execution_count": null,
      "outputs": []
    },
    {
      "cell_type": "code",
      "source": [
        "from PIL import Image\n",
        "\n",
        "#read the image\n",
        "im = Image.open(\"./IMG/Save_model_2.png\")\n",
        "\n",
        "#show image\n",
        "im.show()"
      ],
      "metadata": {
        "id": "HbiNxIAqrSb0"
      },
      "execution_count": null,
      "outputs": []
    }
  ]
}